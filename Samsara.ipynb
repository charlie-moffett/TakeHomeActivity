{
 "cells": [
  {
   "cell_type": "markdown",
   "metadata": {},
   "source": [
    "# Take Home Activity\n",
    "Author: Charlie Moffett, September 2018\n",
    "\n",
    "As a Sales Engineering candidate with Samsara, I was gifted a kit of gear to outfit my vehicle with as if I were hauling temperature controlled cargo. In this noteboook, I'll be digging into the hardware setup, Samsara Dashboard administration, and API workings of the product. You'll learn how I used Samsara's integrated, software-centric solution to extract insights from  my Labor Day road trip to demonstrate how customers can leverage data from the physical world to increase operational efficiency."
   ]
  },
  {
   "cell_type": "markdown",
   "metadata": {},
   "source": [
    "### Hardware Setup\n",
    "\n",
    "The first thing I did was set up all the Samsara hardware that I was provided (pictured below). Not pictured is the OBDII cable used to install my Samsara Vehicle IoT Gateway (VG) - the hub of Samsara's complete solution. It integrates information from a variety of built-in and accessory sensors, including the environmental and door monitors included in my kit. This type of comprehensive and intuitive view is ideal for my simulation of a refrigerated fleet.  \n",
    "\n",
    "For more about the gear and setup, visit https://www.samsara.com/support."
   ]
  },
  {
   "cell_type": "markdown",
   "metadata": {},
   "source": [
    "| [![VG34](https://s3-us-west-2.amazonaws.com/corpweb-static/img/vg34-front-detail.jpg)](https://www.samsara.com/products/models/vg34)  | [![EM22](https://webobjects2.cdw.com/is/image/CDW/4920488)](https://www.samsara.com/products/models/em22) | [![DM11](https://webobjects2.cdw.com/is/image/CDW/4462845)](https://www.samsara.com/products/models/dm11) |\n",
    "|:---:|:---:|:---:|\n",
    "| Vehicle Gateway (VG34) | Environmental Monitor (EM22) | Door Monitor (DM11) |"
   ]
  },
  {
   "cell_type": "markdown",
   "metadata": {},
   "source": [
    "### Configuring the Dashboard\n",
    "\n",
    "Next step was to create an account and register my hardware at samara.com/activate. My Samsara Dashboard (or Samsara Cloud) brings into view both real-time and historical sensor data over the web, allowing me to manage and monitor the equipment, create reports, configure alerts, etc. Though this activity probably falls on the smaller end of the scale, it's good to know that my data is stored indefinitely, with no quantity limits.  \n",
    "  \n",
    "Once I got the hardware up and running, I gave it the entirety of my traffic-ridden, Labor Day \"Long Haul\" to collect some road trip data. Here's an example of how one of the actionable data views could look in your dashboard:"
   ]
  },
  {
   "cell_type": "markdown",
   "metadata": {},
   "source": [
    "<img src=\"https://s3-us-west-2.amazonaws.com/corpweb-static/img/screenshots/utilization-overview.jpg\" alt=\"Samsara Cloud\" width=\"500\"/>"
   ]
  },
  {
   "cell_type": "markdown",
   "metadata": {},
   "source": [
    "### Samsara Cloud API\n",
    "\n",
    "The Samasara Cloud API allows access to all of your data in the Samsara Cloud via an HTTPS-based RPC-style API. In this exercise, I used the API endpoints to track and analyze my sensors and passenger vehicles. The interactions faciliated by the API enables Samsara users to build powerful applications and custom solutions with sensor data. Detailed information can be found in the API Guide here: https://www.samsara.com/api  \n",
    "\n",
    "Now I'll **walk through the code** I wrote to extract data from Samsara Cloud in order to visualize my trip insights, starting with my package imports:"
   ]
  },
  {
   "cell_type": "code",
   "execution_count": 196,
   "metadata": {
    "collapsed": true
   },
   "outputs": [],
   "source": [
    "## This notebook was written in Python 3\n",
    "\n",
    "# Python SDK for the Samsara REST API\n",
    "import samsara\n",
    "from samsara.rest import ApiException\n",
    "\n",
    "## pretty printing\n",
    "from pprint import pprint\n",
    "\n",
    "# Create a dataframe to easily handle data for analysis and graphing\n",
    "import pandas as pd\n",
    "# Package for scientific computing\n",
    "import numpy as np\n",
    "\n",
    "# a graphing library for making interactive, publication-quality graphs\n",
    "import plotly\n",
    "# use Plotly's python API to plot inside the Jupyter Notebook\n",
    "import plotly.plotly as py\n",
    "import plotly.graph_objs as go\n",
    "import plotly.figure_factory as ff\n",
    "\n",
    "# set plotly credentials\n",
    "plotly.tools.set_credentials_file(username='cmoffett', api_key='<your_plotly_token')"
   ]
  },
  {
   "cell_type": "code",
   "execution_count": 204,
   "metadata": {},
   "outputs": [
    {
     "data": {
      "text/html": [
       "<script>requirejs.config({paths: { 'plotly': ['https://cdn.plot.ly/plotly-latest.min']},});if(!window.Plotly) {{require(['plotly'],function(plotly) {window.Plotly=plotly;});}}</script>"
      ],
      "text/vnd.plotly.v1+html": [
       "<script>requirejs.config({paths: { 'plotly': ['https://cdn.plot.ly/plotly-latest.min']},});if(!window.Plotly) {{require(['plotly'],function(plotly) {window.Plotly=plotly;});}}</script>"
      ]
     },
     "metadata": {},
     "output_type": "display_data"
    },
    {
     "name": "stdout",
     "output_type": "stream",
     "text": [
      "2.4.1\n"
     ]
    }
   ],
   "source": [
    "from plotly import __version__\n",
    "from plotly.offline import download_plotlyjs, init_notebook_mode, plot, iplot\n",
    "\n",
    "# initiate the Plotly Notebook mode to plot graphs offline inside a Jupyter Notebook Environment\n",
    "init_notebook_mode(connected=True)\n",
    "\n",
    "print(__version__) # requires plotly version >= 1.9.0"
   ]
  },
  {
   "cell_type": "markdown",
   "metadata": {},
   "source": [
    "### Accessing the API\n",
    "\n",
    "Before I started developing with Samsara APIs, I had to obtain an API key from my Samsara Dashboard to authenticate my API requests. All API requests must be made over HTTPS (calls made over plain HTTP or without authentication will fail).  \n",
    "\n",
    "The Samsara Cloud API is a RESTful API accessed by an HTTP client such as wget or **curl**. Here I'm using curl to perform a POST request to the **/fleets/list** endpoint URL. This method returns a list of the vehicles in my Samsara Cloud and information about them. "
   ]
  },
  {
   "cell_type": "code",
   "execution_count": 207,
   "metadata": {},
   "outputs": [
    {
     "name": "stdout",
     "output_type": "stream",
     "text": [
      "HTTP/1.1 200 OK\n",
      "Date: Wed, 05 Sep 2018 17:20:50 GMT\n",
      "Content-Type: application/json; charset=utf-8\n",
      "Content-Length: 126\n",
      "Connection: keep-alive\n",
      "\n",
      "{\"vehicles\":[{\"id\":212014918214656,\"name\":\"GCW9-EHX-PVV\",\"vin\":\"4S4BRBGC9A3317040\",\"odometerMeters\":null,\"engineHours\":null}]}\n"
     ]
    },
    {
     "name": "stderr",
     "output_type": "stream",
     "text": [
      "  % Total    % Received % Xferd  Average Speed   Time    Time     Time  Current\n",
      "                                 Dload  Upload   Total   Spent    Left  Speed\n",
      "\n",
      "  0     0    0     0    0     0      0      0 --:--:-- --:--:-- --:--:--     0\n",
      "100   144  100   126  100    18    126     18  0:00:01 --:--:--  0:00:01   342\n"
     ]
    }
   ],
   "source": [
    "# Get list of the vehicles\n",
    "!curl -i -X POST -d \"{\\\"groupId\\\": 18750}\" \"https://api.samsara.com/v1/fleet/list?access_token=<your_access_token>\"\n",
    "## All URIs are relative to https://api.samsara.com/v1"
   ]
  },
  {
   "cell_type": "markdown",
   "metadata": {},
   "source": [
    "As we can see from the example above, JSON is returned by all API responses (incl. errors).  \n",
    "We can see vehicle information in the JSON object here, including vehicle ID and VIN... **Hey, that's my car!**"
   ]
  },
  {
   "cell_type": "markdown",
   "metadata": {},
   "source": [
    "### Python SDK  \n",
    "If you prefer to interact with the API using Javascript or Python (like me), Samsara has SDKs available for download from https://github.com/samsarahq\n",
    "\n",
    "Let's now dive into extracting sensor data from my road trip, which we'll munge and manage to prep for visualization."
   ]
  },
  {
   "cell_type": "code",
   "execution_count": 209,
   "metadata": {
    "collapsed": true
   },
   "outputs": [],
   "source": [
    "## GET SENSOR OBJECTS\n",
    "## This method returns a list of the sensor objects in the Samsara Cloud and information about them.\n",
    "\n",
    "# create an instance of the Default API class\n",
    "api_instance = samsara.DefaultApi()\n",
    "\n",
    "## Many Samsara API endpoints require your Group ID as query or body parameter for functioning correctly\n",
    "## Group ID can be viewed on the API Tokens Settings page \n",
    "\n",
    "# GroupParam | Group ID to query\n",
    "group_param = samsara.GroupParam(18750)"
   ]
  },
  {
   "cell_type": "code",
   "execution_count": 210,
   "metadata": {},
   "outputs": [
    {
     "name": "stdout",
     "output_type": "stream",
     "text": [
      "{'sensors': [{'id': 212014918118242,\n",
      "              'mac_address': 'c0:d3:91:e1:ab:62',\n",
      "              'name': 'Environmental'},\n",
      "             {'id': 212014918223924,\n",
      "              'mac_address': 'c0:d3:91:e3:48:34',\n",
      "              'name': 'Door'}]}\n"
     ]
    }
   ],
   "source": [
    "## The get_sensors method is comparable to a POST request to the /sensors/list endpoint\n",
    "try: \n",
    "    # /sensors/list\n",
    "    api_response = api_instance.get_sensors(access_token, group_param) # use access token from curl example\n",
    "    pprint(api_response)\n",
    "except ApiException as e:\n",
    "    print(\"Exception when calling SensorsApi->get_sensors: %s\\n\" % e)"
   ]
  },
  {
   "cell_type": "markdown",
   "metadata": {},
   "source": [
    "As we can see from the sensors list response object, I have two monitors feeding into Samsara Cloud via the vehicle gateway: **Environmental** and **Door.**"
   ]
  },
  {
   "cell_type": "markdown",
   "metadata": {},
   "source": [
    "### Probe Temperature Readings  \n",
    "The Environmental Monitor (EM22) I setup in my car can wirelessly monitor probe temperature. Though I was primarily chaffeuring my friends across the state, the Samsara EM-series monitors are ideal for ensuring food safety during transportation, monitoring warehouse conditions, and other applications that rely on environmental data to ensure quality or maintain compliance."
   ]
  },
  {
   "cell_type": "code",
   "execution_count": 309,
   "metadata": {},
   "outputs": [
    {
     "name": "stdout",
     "output_type": "stream",
     "text": [
      "[{'series': [20653], 'time_ms': 1536041760000},\n",
      " {'series': [20653], 'time_ms': 1536041820000},\n",
      " {'series': [20653], 'time_ms': 1536041880000},\n",
      " {'series': [20653], 'time_ms': 1536041940000},\n",
      " {'series': [20653], 'time_ms': 1536042000000},\n",
      " {'series': [20193], 'time_ms': 1536042060000},\n",
      " {'series': [20193], 'time_ms': 1536042120000},\n",
      " {'series': [20193], 'time_ms': 1536042180000},\n",
      " {'series': [20193], 'time_ms': 1536042240000},\n",
      " {'series': [20193], 'time_ms': 1536042300000}]\n"
     ]
    }
   ],
   "source": [
    "# GET SENSORS HISTORY: probeTemp\n",
    "# list of sensor ID, field pairs to query\n",
    "series = [{\"widgetId\": 212014918118242, \"field\": \"probeTemperature\"}]\n",
    "\n",
    "# HistoryParam | Group ID, time range and resolution, and list of sensor ID, field pairs to query\n",
    "history_param = samsara.HistoryParam(18750, 1535995860000, 1536042360000, 60000, series, \"withPrevious\") # fill missing values with previous value\n",
    "\n",
    "try: \n",
    "    # /sensors/history\n",
    "    probe_response = api_instance.get_sensors_history(access_token, history_param) # re-use Default API instance\n",
    "    # print a sample of ten readings\n",
    "    pprint(probe_response.results[-10:])\n",
    "except ApiException as e:\n",
    "    print(\"Exception when calling DefaultApi->get_sensors_history: %s\\n\" % e)"
   ]
  },
  {
   "cell_type": "code",
   "execution_count": 254,
   "metadata": {},
   "outputs": [
    {
     "name": "stdout",
     "output_type": "stream",
     "text": [
      "<class 'samsara.models.sensor_history_response.SensorHistoryResponse'>, <class 'list'>, <class 'samsara.models.sensor_history_response_results.SensorHistoryResponseResults'>\n"
     ]
    }
   ],
   "source": [
    "# What sort of data structures are we working with here?\n",
    "print('{}, {}, {}'.format(type(probe_response), type(probe_response.results), type(probe_response.results[0])))"
   ]
  },
  {
   "cell_type": "markdown",
   "metadata": {},
   "source": [
    "### Ambient Temperature Readings\n",
    "Currently reported ambient temperature (from the same EM22 sensor) in millidegrees celsius."
   ]
  },
  {
   "cell_type": "code",
   "execution_count": 308,
   "metadata": {},
   "outputs": [
    {
     "name": "stdout",
     "output_type": "stream",
     "text": [
      "[{'series': [22830], 'time_ms': 1536041760000},\n",
      " {'series': [22830], 'time_ms': 1536041820000},\n",
      " {'series': [22830], 'time_ms': 1536041880000},\n",
      " {'series': [22455], 'time_ms': 1536041940000},\n",
      " {'series': [22455], 'time_ms': 1536042000000},\n",
      " {'series': [22455], 'time_ms': 1536042060000},\n",
      " {'series': [22455], 'time_ms': 1536042120000},\n",
      " {'series': [22455], 'time_ms': 1536042180000},\n",
      " {'series': [22455], 'time_ms': 1536042240000},\n",
      " {'series': [22455], 'time_ms': 1536042300000}]\n"
     ]
    }
   ],
   "source": [
    "# GET SENSORS HISTORY: ambientTemp\n",
    "# list of sensor ID, field pairs to query\n",
    "series = [{\"widgetId\": 212014918118242, \"field\": \"ambientTemperature\"}]\n",
    "\n",
    "# HistoryParam | Group ID, time range and resolution, and list of sensor ID, field pairs to query\n",
    "history_param = samsara.HistoryParam(18750, 1535995860000, 1536042360000, 60000, series, \"withPrevious\") # minute resolution\n",
    "\n",
    "try: \n",
    "    # /sensors/history\n",
    "    ambient_response = api_instance.get_sensors_history(access_token, history_param) # re-use Default API instance\n",
    "    # print a sample of ten readings\n",
    "    pprint(ambient_response.results[-10:])\n",
    "except ApiException as e:\n",
    "    print(\"Exception when calling DefaultApi->get_sensors_history: %s\\n\" % e)"
   ]
  },
  {
   "cell_type": "markdown",
   "metadata": {},
   "source": [
    "### Door Monitor\n",
    "The DM11 Door Monitor is a data-logging sensor that detects when doors open and close for powerful visibility and security. In this next API call, I use a different widgetId to access the DM11 rather than the EM22, and pull data from a field labeled **\"doorClosed\"**:"
   ]
  },
  {
   "cell_type": "code",
   "execution_count": 315,
   "metadata": {},
   "outputs": [
    {
     "name": "stdout",
     "output_type": "stream",
     "text": [
      "[{'series': [0], 'time_ms': 1535995860000},\n",
      " {'series': [1], 'time_ms': 1535999460000},\n",
      " {'series': [1], 'time_ms': 1536003060000},\n",
      " {'series': [0], 'time_ms': 1536006660000},\n",
      " {'series': [0], 'time_ms': 1536010260000},\n",
      " {'series': [0], 'time_ms': 1536013860000},\n",
      " {'series': [0], 'time_ms': 1536017460000},\n",
      " {'series': [0], 'time_ms': 1536021060000},\n",
      " {'series': [0], 'time_ms': 1536024660000},\n",
      " {'series': [0], 'time_ms': 1536028260000},\n",
      " {'series': [0], 'time_ms': 1536031860000},\n",
      " {'series': [0], 'time_ms': 1536035460000},\n",
      " {'series': [0], 'time_ms': 1536039060000}]\n"
     ]
    }
   ],
   "source": [
    "# GET SENSORS HISTOY: doorClosed\n",
    "# list of sensor ID, field pairs to query\n",
    "series = [{\"widgetId\": 212014918223924, \"field\": \"doorClosed\"}]\n",
    "\n",
    "# HistoryParam | Group ID, time range and resolution, and list of sensor ID, field pairs to query.\n",
    "history_param = samsara.HistoryParam(18750, 1535995860000, 1536042360000, 3600000, series, \"withPrevious\") # hourly resolution\n",
    "\n",
    "try: \n",
    "    # /sensors/history\n",
    "    door_response = api_instance.get_sensors_history(access_token, history_param)\n",
    "    pprint(door_response.results)\n",
    "except ApiException as e:\n",
    "    print(\"Exception when calling DefaultApi->get_sensors_history: %s\\n\" % e)"
   ]
  },
  {
   "cell_type": "markdown",
   "metadata": {},
   "source": [
    "\"doorClosed\" is a flag indicating whether the current door (the driver's door in my case) is closed or open. It's a boolean value, so there are only two possible values: 1 for closed and 0 for open. \n",
    "  \n",
    "From the look of this response object, it seems I drove most of the way with my door open! In fact, the **magnetic bar had fallen off of my door** and I didn't notice until the end of the trip. For this reason, I'll **leave these data points out** of my visualizations."
   ]
  },
  {
   "cell_type": "markdown",
   "metadata": {},
   "source": [
    "### Data Munging\n",
    "\n",
    "I want to massage these data into a `pandas` dataframe, which will make visualization a lot easier for the sake of this exercise.  \n",
    "To get to that stage, though, we'll first do a bit of **data manipulation and management** to get our data structures and units straight."
   ]
  },
  {
   "cell_type": "code",
   "execution_count": 317,
   "metadata": {},
   "outputs": [
    {
     "data": {
      "text/plain": [
       "[('72.62', '73.09', '2018-09-03 23:06:00'),\n",
       " ('72.62', '73.09', '2018-09-03 23:08:00'),\n",
       " ('71.86', '73.09', '2018-09-03 23:10:00'),\n",
       " ('71.86', '73.09', '2018-09-03 23:12:00'),\n",
       " ('70.08', '73.09', '2018-09-03 23:14:00'),\n",
       " ('69.18', '73.09', '2018-09-03 23:16:00'),\n",
       " ('69.18', '73.09', '2018-09-03 23:18:00'),\n",
       " ('69.18', '72.42', '2018-09-03 23:20:00'),\n",
       " ('68.35', '72.42', '2018-09-03 23:22:00'),\n",
       " ('68.35', '72.42', '2018-09-03 23:24:00')]"
      ]
     },
     "execution_count": 317,
     "metadata": {},
     "output_type": "execute_result"
    }
   ],
   "source": [
    "# create list of timestamps\n",
    "time_list = []\n",
    "span = range(len(probe_response.results))\n",
    "\n",
    "# loop through each reading in the sensor history response object\n",
    "for i in span:\n",
    "    # store time in milliseconds from each reading\n",
    "    result = probe_response.results[i].time_ms\n",
    "    # convert time from milliseconds to datetime\n",
    "    s = result / 1000.0\n",
    "    time_list.append(datetime.datetime.fromtimestamp(s).strftime('%Y-%m-%d %H:%M:%S'))\n",
    "    \n",
    "# create list of probe temperature readings\n",
    "probe_temp_list = []\n",
    "\n",
    "# loop through each reading in the sensor history response object\n",
    "for i in span:\n",
    "    # store raw temperature reading\n",
    "    result = probe_response.results[i].series\n",
    "    for r in result:\n",
    "        # convert millidegree celsius to fahrenheit\n",
    "        r = (r*.0018)+32\n",
    "        probe_temp_list.append(f\"{r:.2f}\") # round temperate to second decimal place\n",
    "        \n",
    "# create list of ambient temperature readings\n",
    "ambient_temp_list = []\n",
    "\n",
    "# loop through each reading in the sensor history response object\n",
    "for i in span:\n",
    "    # store raw temperature reading\n",
    "    result = ambient_response.results[i].series\n",
    "    for r in result:\n",
    "        # convert celsius to farenheit\n",
    "        r = (r*.0018)+32\n",
    "        ambient_temp_list.append(f\"{r:.2f}\") # round temperate to second decimal place\n",
    "\n",
    "# Python 3 to get list of tuples from the two lists\n",
    "data_tuples = list(zip(probe_temp_list, ambient_temp_list, time_list))\n",
    "\n",
    "# print a sample of 10 tuples\n",
    "data_tuples[-20::2]"
   ]
  },
  {
   "cell_type": "markdown",
   "metadata": {},
   "source": [
    "### Dataframe  \n",
    "Now that the data looks a little more intelligible, let's put together that dataframe we've been talking about."
   ]
  },
  {
   "cell_type": "code",
   "execution_count": 323,
   "metadata": {},
   "outputs": [
    {
     "data": {
      "text/html": [
       "<iframe id=\"igraph\" scrolling=\"no\" style=\"border:none;\" seamless=\"seamless\" src=\"https://plot.ly/~cmoffett/12.embed\" height=\"500px\" width=\"100%\"></iframe>"
      ],
      "text/plain": [
       "<plotly.tools.PlotlyDisplay object>"
      ]
     },
     "execution_count": 323,
     "metadata": {},
     "output_type": "execute_result"
    }
   ],
   "source": [
    "# Convert list of tuples to pandas dataframe\n",
    "# We can also specify column names with the list of tuples\n",
    "df = pd.DataFrame(data_tuples, columns=['probeTemp', 'ambientTemp', 'Timestamp'])\n",
    "\n",
    "# Create a plotly table from dataframe\n",
    "table = ff.create_table(df[100:1000:50]) # show only a subset of total dataframe in table\n",
    "py.iplot(table, filename='Temp-table1')"
   ]
  },
  {
   "cell_type": "code",
   "execution_count": 325,
   "metadata": {},
   "outputs": [
    {
     "data": {
      "text/html": [
       "<iframe id=\"igraph\" scrolling=\"no\" style=\"border:none;\" seamless=\"seamless\" src=\"https://plot.ly/~cmoffett/10.embed\" height=\"525px\" width=\"100%\"></iframe>"
      ],
      "text/plain": [
       "<plotly.tools.PlotlyDisplay object>"
      ]
     },
     "execution_count": 325,
     "metadata": {},
     "output_type": "execute_result"
    }
   ],
   "source": [
    "# line graph\n",
    "\n",
    "# Create and style line for probeTemp\n",
    "trace1 = go.Scatter(x=df.Timestamp, y=df.probeTemp, name = 'probeTemp (degrees F)', line = dict(color = ('rgb(205, 12, 24)'),\n",
    "        width = 4))\n",
    "\n",
    "# Create and style line for ambientTemp\n",
    "trace2 = go.Scatter(x=df.Timestamp, y=df.ambientTemp, name = 'ambientTemp (degrees F)', line = dict(color = ('rgb(22, 96, 167)'),\n",
    "        width = 4))\n",
    "\n",
    "# Combine lines into a list\n",
    "data = [trace1, trace2]\n",
    "\n",
    "# Edit the layout\n",
    "layout = dict(title = 'Temperature Inside My Car, Labor Day Long Haul 2018',\n",
    "              xaxis = dict(title = 'Hour'),\n",
    "              yaxis = dict(title = 'Temperature (degrees F)'),\n",
    "              )\n",
    "\n",
    "# Plot the lines and layout\n",
    "fig = dict(data=data, layout=layout)\n",
    "py.iplot(fig, filename='probeTemp-line_chart')"
   ]
  },
  {
   "cell_type": "markdown",
   "metadata": {},
   "source": [
    "### Plotting Trips Endpoints\n",
    "Plotly is now integrated with Mapbox. I'll plot lattitude and longitude data of start/end locations for historic fleet trips (i.e. my drive from SD to SF)."
   ]
  },
  {
   "cell_type": "code",
   "execution_count": 333,
   "metadata": {},
   "outputs": [
    {
     "data": {
      "text/html": [
       "<iframe id=\"igraph\" scrolling=\"no\" style=\"border:none;\" seamless=\"seamless\" src=\"https://plot.ly/~cmoffett/6.embed\" height=\"230px\" width=\"100%\"></iframe>"
      ],
      "text/plain": [
       "<plotly.tools.PlotlyDisplay object>"
      ]
     },
     "execution_count": 333,
     "metadata": {},
     "output_type": "execute_result"
    }
   ],
   "source": [
    "## The get_fleet_trips method returns a set of historical trips data for the specified vehicle in the specified time range.\n",
    "\n",
    "# TripsParam | Group ID, vehicle ID and time range to query.\n",
    "trips_param = samsara.TripsParam(18750, 212014918214656, 1535995860000, 1536042360000)\n",
    "\n",
    "try: \n",
    "    # /fleet/trips\n",
    "    trips_response = api_instance.get_fleet_trips(access_token, trips_param) # re-use Default API instance\n",
    "except ApiException as e:\n",
    "    print(\"Exception when calling FleetApi->get_fleet_trips: %s\\n\" % e)\n",
    "    \n",
    "# create lists of end location coordinates and place names\n",
    "end_lat = []\n",
    "end_lon = []\n",
    "locations_name = []\n",
    "locations_time = []\n",
    "\n",
    "# add coordinates, name and time for first start location\n",
    "end_lat.append(trips_response.trips[0].start_coordinates.latitude)\n",
    "end_lon.append(trips_response.trips[0].start_coordinates.longitude)\n",
    "locations_name.append(trips_response.trips[0].start_location)\n",
    "locations_time.append(trips_response.trips[0].start_ms)\n",
    "\n",
    "# loop through each reading in fleet trips response object\n",
    "for i in range(len(trips_response.trips)):\n",
    "    # add coordinates, name, and time to respective lists\n",
    "    end_lat.append(trips_response.trips[i].end_coordinates.latitude)\n",
    "    end_lon.append(trips_response.trips[i].end_coordinates.longitude)\n",
    "    locations_name.append(trips_response.trips[i].end_location)\n",
    "    locations_time.append(trips_response.trips[i].end_ms)\n",
    "    \n",
    "# Python 3 to get list of tuples from the two lists\n",
    "data_tuples2 = list(zip(locations_name, end_lat, end_lon))\n",
    "\n",
    "# Convert list of tuples to pandas dataframe\n",
    "# We can also specify column names with the list of tuples\n",
    "df2 = pd.DataFrame(data_tuples2, columns=['Location', 'Latitude', 'Longitude'])\n",
    "\n",
    "# Create a plotly table from dataframe\n",
    "table2 = ff.create_table(df2)\n",
    "py.iplot(table2, filename='endtrip-table2')"
   ]
  },
  {
   "cell_type": "code",
   "execution_count": 334,
   "metadata": {},
   "outputs": [
    {
     "data": {
      "text/html": [
       "<iframe id=\"igraph\" scrolling=\"no\" style=\"border:none;\" seamless=\"seamless\" src=\"https://plot.ly/~cmoffett/8.embed\" height=\"525px\" width=\"100%\"></iframe>"
      ],
      "text/plain": [
       "<plotly.tools.PlotlyDisplay object>"
      ]
     },
     "execution_count": 334,
     "metadata": {},
     "output_type": "execute_result"
    }
   ],
   "source": [
    "# To plot on Mapbox maps with Plotly, you'll need a Mapbox account and a Mapbox Access Token\n",
    "mapbox_access_token = 'insert_your_token_here'\n",
    "\n",
    "data2 = [go.Scattermapbox(lat=df2.Latitude, lon=df2.Longitude, mode='markers', marker=dict(\n",
    "        size=17, color='rgb(255, 0, 0)', opacity=0.7), text=df2.Location, hoverinfo='text'),\n",
    "        go.Scattermapbox(lat=df2.Latitude, lon=df2.Longitude, mode='markers', marker=dict(size=8,\n",
    "        color='rgb(242, 177, 172)', opacity=0.7), hoverinfo='none')]\n",
    "\n",
    "layout2 = go.Layout(title='Fleet Trips Start/End Points', autosize=True, hovermode='closest', showlegend=False,\n",
    "            mapbox=dict(accesstoken=mapbox_access_token, bearing=0, center=dict(lat=35, lon=-117),\n",
    "            pitch=0, zoom=4.5, style='light'),)\n",
    "\n",
    "fig2 = dict(data=data2, layout=layout2)\n",
    "\n",
    "py.iplot(fig2, filename='fleet_trips-map1')"
   ]
  },
  {
   "cell_type": "markdown",
   "metadata": {},
   "source": [
    "### Conclusion\n",
    "\n"
   ]
  },
  {
   "cell_type": "code",
   "execution_count": null,
   "metadata": {
    "collapsed": true
   },
   "outputs": [],
   "source": []
  }
 ],
 "metadata": {
  "kernelspec": {
   "display_name": "Python 3",
   "language": "python",
   "name": "python3"
  },
  "language_info": {
   "codemirror_mode": {
    "name": "ipython",
    "version": 3
   },
   "file_extension": ".py",
   "mimetype": "text/x-python",
   "name": "python",
   "nbconvert_exporter": "python",
   "pygments_lexer": "ipython3",
   "version": "3.6.3"
  }
 },
 "nbformat": 4,
 "nbformat_minor": 2
}
